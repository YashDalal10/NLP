{
  "nbformat": 4,
  "nbformat_minor": 0,
  "metadata": {
    "colab": {
      "name": "NLP3.ipynb",
      "provenance": [],
      "collapsed_sections": []
    },
    "kernelspec": {
      "name": "python3",
      "display_name": "Python 3"
    }
  },
  "cells": [
    {
      "cell_type": "code",
      "metadata": {
        "id": "i6h23v1SZXts",
        "colab_type": "code",
        "colab": {}
      },
      "source": [
        "import numpy as np\n",
        "import pandas as pd"
      ],
      "execution_count": 0,
      "outputs": []
    },
    {
      "cell_type": "code",
      "metadata": {
        "id": "wr_leha3gJYJ",
        "colab_type": "code",
        "colab": {}
      },
      "source": [
        "data = pd.read_json('http://snap.stanford.edu/data/amazon/productGraph/categoryFiles/reviews_Office_Products_5.json.gz',lines = True)"
      ],
      "execution_count": 0,
      "outputs": []
    },
    {
      "cell_type": "code",
      "metadata": {
        "id": "ehgHHOTni7E2",
        "colab_type": "code",
        "outputId": "7155ff39-168b-4433-8a68-a2cbd999aa80",
        "colab": {
          "base_uri": "https://localhost:8080/",
          "height": 229
        }
      },
      "source": [
        "data.head()"
      ],
      "execution_count": 3,
      "outputs": [
        {
          "output_type": "execute_result",
          "data": {
            "text/html": [
              "<div>\n",
              "<style scoped>\n",
              "    .dataframe tbody tr th:only-of-type {\n",
              "        vertical-align: middle;\n",
              "    }\n",
              "\n",
              "    .dataframe tbody tr th {\n",
              "        vertical-align: top;\n",
              "    }\n",
              "\n",
              "    .dataframe thead th {\n",
              "        text-align: right;\n",
              "    }\n",
              "</style>\n",
              "<table border=\"1\" class=\"dataframe\">\n",
              "  <thead>\n",
              "    <tr style=\"text-align: right;\">\n",
              "      <th></th>\n",
              "      <th>reviewerID</th>\n",
              "      <th>asin</th>\n",
              "      <th>reviewerName</th>\n",
              "      <th>helpful</th>\n",
              "      <th>reviewText</th>\n",
              "      <th>overall</th>\n",
              "      <th>summary</th>\n",
              "      <th>unixReviewTime</th>\n",
              "      <th>reviewTime</th>\n",
              "    </tr>\n",
              "  </thead>\n",
              "  <tbody>\n",
              "    <tr>\n",
              "      <th>0</th>\n",
              "      <td>A32T2H8150OJLU</td>\n",
              "      <td>B00000JBLH</td>\n",
              "      <td>ARH</td>\n",
              "      <td>[3, 4]</td>\n",
              "      <td>I bought my first HP12C in about 1984 or so, a...</td>\n",
              "      <td>5</td>\n",
              "      <td>A solid performer, and long time friend</td>\n",
              "      <td>1094169600</td>\n",
              "      <td>09 3, 2004</td>\n",
              "    </tr>\n",
              "    <tr>\n",
              "      <th>1</th>\n",
              "      <td>A3MAFS04ZABRGO</td>\n",
              "      <td>B00000JBLH</td>\n",
              "      <td>Let it Be \"Alan\"</td>\n",
              "      <td>[7, 9]</td>\n",
              "      <td>WHY THIS BELATED REVIEW? I feel very obliged t...</td>\n",
              "      <td>5</td>\n",
              "      <td>Price of GOLD is up, so don't bury the golden ...</td>\n",
              "      <td>1197676800</td>\n",
              "      <td>12 15, 2007</td>\n",
              "    </tr>\n",
              "    <tr>\n",
              "      <th>2</th>\n",
              "      <td>A1F1A0QQP2XVH5</td>\n",
              "      <td>B00000JBLH</td>\n",
              "      <td>Mark B</td>\n",
              "      <td>[3, 3]</td>\n",
              "      <td>I have an HP 48GX that has been kicking for mo...</td>\n",
              "      <td>2</td>\n",
              "      <td>Good functionality, but not durable like old HPs</td>\n",
              "      <td>1293840000</td>\n",
              "      <td>01 1, 2011</td>\n",
              "    </tr>\n",
              "    <tr>\n",
              "      <th>3</th>\n",
              "      <td>A49R5DBXXQDE5</td>\n",
              "      <td>B00000JBLH</td>\n",
              "      <td>R. D Johnson</td>\n",
              "      <td>[7, 8]</td>\n",
              "      <td>I've started doing more finance stuff recently...</td>\n",
              "      <td>5</td>\n",
              "      <td>One of the last of an almost extinct species</td>\n",
              "      <td>1145404800</td>\n",
              "      <td>04 19, 2006</td>\n",
              "    </tr>\n",
              "    <tr>\n",
              "      <th>4</th>\n",
              "      <td>A2XRMQA6PJ5ZJ8</td>\n",
              "      <td>B00000JBLH</td>\n",
              "      <td>Roger J. Buffington</td>\n",
              "      <td>[0, 0]</td>\n",
              "      <td>For simple calculations and discounted cash fl...</td>\n",
              "      <td>5</td>\n",
              "      <td>Still the best</td>\n",
              "      <td>1375574400</td>\n",
              "      <td>08 4, 2013</td>\n",
              "    </tr>\n",
              "  </tbody>\n",
              "</table>\n",
              "</div>"
            ],
            "text/plain": [
              "       reviewerID        asin  ... unixReviewTime   reviewTime\n",
              "0  A32T2H8150OJLU  B00000JBLH  ...     1094169600   09 3, 2004\n",
              "1  A3MAFS04ZABRGO  B00000JBLH  ...     1197676800  12 15, 2007\n",
              "2  A1F1A0QQP2XVH5  B00000JBLH  ...     1293840000   01 1, 2011\n",
              "3   A49R5DBXXQDE5  B00000JBLH  ...     1145404800  04 19, 2006\n",
              "4  A2XRMQA6PJ5ZJ8  B00000JBLH  ...     1375574400   08 4, 2013\n",
              "\n",
              "[5 rows x 9 columns]"
            ]
          },
          "metadata": {
            "tags": []
          },
          "execution_count": 3
        }
      ]
    },
    {
      "cell_type": "code",
      "metadata": {
        "id": "KinyWCwijTdd",
        "colab_type": "code",
        "colab": {}
      },
      "source": [
        "d = pd.DataFrame(data)"
      ],
      "execution_count": 0,
      "outputs": []
    },
    {
      "cell_type": "code",
      "metadata": {
        "id": "PqX-bx6-EhZ2",
        "colab_type": "code",
        "colab": {}
      },
      "source": [
        "def splita(m):\n",
        "  return list(m)"
      ],
      "execution_count": 0,
      "outputs": []
    },
    {
      "cell_type": "code",
      "metadata": {
        "id": "jokg4i5-kcRe",
        "colab_type": "code",
        "colab": {}
      },
      "source": [
        "import re"
      ],
      "execution_count": 0,
      "outputs": []
    },
    {
      "cell_type": "code",
      "metadata": {
        "id": "L4VgKZwUw_yo",
        "colab_type": "code",
        "colab": {}
      },
      "source": [
        "def beta(string):\n",
        "  string=string.lower()\n",
        "  string=re.sub('[^a-zA-Z]',' ',string)\n",
        "  listgb=re.findall(r\"\\b(?!b)\\w+(?<!g)\\b\",string)\n",
        "  return listgb"
      ],
      "execution_count": 0,
      "outputs": []
    },
    {
      "cell_type": "code",
      "metadata": {
        "id": "bsDUsfn7SU4a",
        "colab_type": "code",
        "colab": {}
      },
      "source": [
        "d['notbgr'] = d['reviewText'].apply(beta)\n",
        "d['notbgs'] = d['summary'].apply(beta)"
      ],
      "execution_count": 0,
      "outputs": []
    },
    {
      "cell_type": "code",
      "metadata": {
        "id": "_lACSffY5ytR",
        "colab_type": "code",
        "outputId": "6fa5bdcd-d34c-4de7-ea49-d5082c7ee319",
        "colab": {
          "base_uri": "https://localhost:8080/",
          "height": 941
        }
      },
      "source": [
        "d['notbgr'][10]"
      ],
      "execution_count": 17,
      "outputs": [
        {
          "output_type": "execute_result",
          "data": {
            "text/plain": [
              "['i',\n",
              " 've',\n",
              " 'had',\n",
              " 'mine',\n",
              " 'for',\n",
              " 'years',\n",
              " 'now',\n",
              " 'and',\n",
              " 'use',\n",
              " 'it',\n",
              " 'almost',\n",
              " 'daily',\n",
              " 'never',\n",
              " 'had',\n",
              " 'any',\n",
              " 'problems',\n",
              " 'with',\n",
              " 'it',\n",
              " 'even',\n",
              " 'after',\n",
              " 'a',\n",
              " 'few',\n",
              " 'drops',\n",
              " 'to',\n",
              " 'the',\n",
              " 'carpeted',\n",
              " 'floor',\n",
              " 'large',\n",
              " 'easy',\n",
              " 'to',\n",
              " 'read',\n",
              " 'keys',\n",
              " 'with',\n",
              " 'a',\n",
              " 'nice',\n",
              " 'feel',\n",
              " 'not',\n",
              " 'too',\n",
              " 'hard',\n",
              " 'not',\n",
              " 'too',\n",
              " 'soft',\n",
              " 'large',\n",
              " 'easy',\n",
              " 'to',\n",
              " 'read',\n",
              " 'display',\n",
              " 'all',\n",
              " 'in',\n",
              " 'all',\n",
              " 'good',\n",
              " 'calculator',\n",
              " 'for',\n",
              " 'everyday',\n",
              " 'functions']"
            ]
          },
          "metadata": {
            "tags": []
          },
          "execution_count": 17
        }
      ]
    },
    {
      "cell_type": "code",
      "metadata": {
        "id": "hbz1hI2QzeNV",
        "colab_type": "code",
        "outputId": "91c48f4a-0530-4f35-a1e0-43b30c5b5603",
        "colab": {
          "base_uri": "https://localhost:8080/",
          "height": 1000
        }
      },
      "source": [
        "d"
      ],
      "execution_count": 18,
      "outputs": [
        {
          "output_type": "execute_result",
          "data": {
            "text/html": [
              "<div>\n",
              "<style scoped>\n",
              "    .dataframe tbody tr th:only-of-type {\n",
              "        vertical-align: middle;\n",
              "    }\n",
              "\n",
              "    .dataframe tbody tr th {\n",
              "        vertical-align: top;\n",
              "    }\n",
              "\n",
              "    .dataframe thead th {\n",
              "        text-align: right;\n",
              "    }\n",
              "</style>\n",
              "<table border=\"1\" class=\"dataframe\">\n",
              "  <thead>\n",
              "    <tr style=\"text-align: right;\">\n",
              "      <th></th>\n",
              "      <th>reviewerID</th>\n",
              "      <th>asin</th>\n",
              "      <th>reviewerName</th>\n",
              "      <th>helpful</th>\n",
              "      <th>reviewText</th>\n",
              "      <th>overall</th>\n",
              "      <th>summary</th>\n",
              "      <th>unixReviewTime</th>\n",
              "      <th>reviewTime</th>\n",
              "      <th>counts_review</th>\n",
              "      <th>counts_summary</th>\n",
              "      <th>notbgr</th>\n",
              "      <th>notbgs</th>\n",
              "    </tr>\n",
              "  </thead>\n",
              "  <tbody>\n",
              "    <tr>\n",
              "      <th>0</th>\n",
              "      <td>A32T2H8150OJLU</td>\n",
              "      <td>B00000JBLH</td>\n",
              "      <td>ARH</td>\n",
              "      <td>[3, 4]</td>\n",
              "      <td>I bought my first HP12C in about 1984 or so, a...</td>\n",
              "      <td>5</td>\n",
              "      <td>A solid performer, and long time friend</td>\n",
              "      <td>1094169600</td>\n",
              "      <td>09 3, 2004</td>\n",
              "      <td>{'vowel': 279, 'consonant': 693, 'tcount': 972}</td>\n",
              "      <td>{'vowel': 12, 'consonant': 27, 'tcount': 39}</td>\n",
              "      <td>[i, my, first, hp, c, in, about, or, so, and, ...</td>\n",
              "      <td>[a, solid, performer, and, time, friend]</td>\n",
              "    </tr>\n",
              "    <tr>\n",
              "      <th>1</th>\n",
              "      <td>A3MAFS04ZABRGO</td>\n",
              "      <td>B00000JBLH</td>\n",
              "      <td>Let it Be \"Alan\"</td>\n",
              "      <td>[7, 9]</td>\n",
              "      <td>WHY THIS BELATED REVIEW? I feel very obliged t...</td>\n",
              "      <td>5</td>\n",
              "      <td>Price of GOLD is up, so don't bury the golden ...</td>\n",
              "      <td>1197676800</td>\n",
              "      <td>12 15, 2007</td>\n",
              "      <td>{'vowel': 1504, 'consonant': 3851, 'tcount': 5...</td>\n",
              "      <td>{'vowel': 14, 'consonant': 48, 'tcount': 62}</td>\n",
              "      <td>[why, this, review, i, feel, very, obliged, to...</td>\n",
              "      <td>[price, of, gold, is, up, so, don, t, the, gol...</td>\n",
              "    </tr>\n",
              "    <tr>\n",
              "      <th>2</th>\n",
              "      <td>A1F1A0QQP2XVH5</td>\n",
              "      <td>B00000JBLH</td>\n",
              "      <td>Mark B</td>\n",
              "      <td>[3, 3]</td>\n",
              "      <td>I have an HP 48GX that has been kicking for mo...</td>\n",
              "      <td>2</td>\n",
              "      <td>Good functionality, but not durable like old HPs</td>\n",
              "      <td>1293840000</td>\n",
              "      <td>01 1, 2011</td>\n",
              "      <td>{'vowel': 134, 'consonant': 361, 'tcount': 495}</td>\n",
              "      <td>{'vowel': 15, 'consonant': 33, 'tcount': 48}</td>\n",
              "      <td>[i, have, an, hp, gx, that, has, for, more, th...</td>\n",
              "      <td>[good, functionality, not, durable, like, old,...</td>\n",
              "    </tr>\n",
              "    <tr>\n",
              "      <th>3</th>\n",
              "      <td>A49R5DBXXQDE5</td>\n",
              "      <td>B00000JBLH</td>\n",
              "      <td>R. D Johnson</td>\n",
              "      <td>[7, 8]</td>\n",
              "      <td>I've started doing more finance stuff recently...</td>\n",
              "      <td>5</td>\n",
              "      <td>One of the last of an almost extinct species</td>\n",
              "      <td>1145404800</td>\n",
              "      <td>04 19, 2006</td>\n",
              "      <td>{'vowel': 1089, 'consonant': 2559, 'tcount': 3...</td>\n",
              "      <td>{'vowel': 14, 'consonant': 30, 'tcount': 44}</td>\n",
              "      <td>[i, ve, started, more, finance, stuff, recentl...</td>\n",
              "      <td>[one, of, the, last, of, an, almost, extinct, ...</td>\n",
              "    </tr>\n",
              "    <tr>\n",
              "      <th>4</th>\n",
              "      <td>A2XRMQA6PJ5ZJ8</td>\n",
              "      <td>B00000JBLH</td>\n",
              "      <td>Roger J. Buffington</td>\n",
              "      <td>[0, 0]</td>\n",
              "      <td>For simple calculations and discounted cash fl...</td>\n",
              "      <td>5</td>\n",
              "      <td>Still the best</td>\n",
              "      <td>1375574400</td>\n",
              "      <td>08 4, 2013</td>\n",
              "      <td>{'vowel': 208, 'consonant': 496, 'tcount': 704}</td>\n",
              "      <td>{'vowel': 3, 'consonant': 11, 'tcount': 14}</td>\n",
              "      <td>[for, simple, calculations, and, discounted, c...</td>\n",
              "      <td>[still, the]</td>\n",
              "    </tr>\n",
              "    <tr>\n",
              "      <th>...</th>\n",
              "      <td>...</td>\n",
              "      <td>...</td>\n",
              "      <td>...</td>\n",
              "      <td>...</td>\n",
              "      <td>...</td>\n",
              "      <td>...</td>\n",
              "      <td>...</td>\n",
              "      <td>...</td>\n",
              "      <td>...</td>\n",
              "      <td>...</td>\n",
              "      <td>...</td>\n",
              "      <td>...</td>\n",
              "      <td>...</td>\n",
              "    </tr>\n",
              "    <tr>\n",
              "      <th>53253</th>\n",
              "      <td>A1ODOGXEYECQQ8</td>\n",
              "      <td>B00KYA0RC2</td>\n",
              "      <td>Nuknuk</td>\n",
              "      <td>[0, 0]</td>\n",
              "      <td>What I like about this scale is you can power ...</td>\n",
              "      <td>4</td>\n",
              "      <td>Portable and very easy to use</td>\n",
              "      <td>1405555200</td>\n",
              "      <td>07 17, 2014</td>\n",
              "      <td>{'vowel': 236, 'consonant': 533, 'tcount': 769}</td>\n",
              "      <td>{'vowel': 10, 'consonant': 19, 'tcount': 29}</td>\n",
              "      <td>[what, i, like, about, this, scale, is, you, c...</td>\n",
              "      <td>[portable, and, very, easy, to, use]</td>\n",
              "    </tr>\n",
              "    <tr>\n",
              "      <th>53254</th>\n",
              "      <td>A2XX2A4OJCDNLZ</td>\n",
              "      <td>B00KYA0RC2</td>\n",
              "      <td>RatherLiveInKeyWest</td>\n",
              "      <td>[2, 2]</td>\n",
              "      <td>This Accuteck ShipPro digital scale works very...</td>\n",
              "      <td>5</td>\n",
              "      <td>Accuteck ShipPro Digital Postal Scale - Stand-...</td>\n",
              "      <td>1405296000</td>\n",
              "      <td>07 14, 2014</td>\n",
              "      <td>{'vowel': 839, 'consonant': 1887, 'tcount': 2726}</td>\n",
              "      <td>{'vowel': 32, 'consonant': 72, 'tcount': 104}</td>\n",
              "      <td>[this, accuteck, shippro, digital, scale, work...</td>\n",
              "      <td>[accuteck, shippro, digital, postal, scale, st...</td>\n",
              "    </tr>\n",
              "    <tr>\n",
              "      <th>53255</th>\n",
              "      <td>A3LGT6UZL99IW1</td>\n",
              "      <td>B00KYA0RC2</td>\n",
              "      <td>Richard C. Drew \"Anaal Nathra/Uthe vas Bethod...</td>\n",
              "      <td>[1, 1]</td>\n",
              "      <td>I ship a lot of stuff.  I sell small parts, ma...</td>\n",
              "      <td>5</td>\n",
              "      <td>Extremely accurate, foolproof postal/shipping ...</td>\n",
              "      <td>1405468800</td>\n",
              "      <td>07 16, 2014</td>\n",
              "      <td>{'vowel': 422, 'consonant': 1085, 'tcount': 1507}</td>\n",
              "      <td>{'vowel': 17, 'consonant': 35, 'tcount': 52}</td>\n",
              "      <td>[i, ship, a, lot, of, stuff, i, sell, small, p...</td>\n",
              "      <td>[extremely, accurate, foolproof, postal, scale]</td>\n",
              "    </tr>\n",
              "    <tr>\n",
              "      <th>53256</th>\n",
              "      <td>A1XJOSJN6FHFO0</td>\n",
              "      <td>B00KYA0RC2</td>\n",
              "      <td>Shirley Priscilla  Johnson \"Author/Reviewer -...</td>\n",
              "      <td>[0, 0]</td>\n",
              "      <td>This is a great little scale to have. It can w...</td>\n",
              "      <td>5</td>\n",
              "      <td>Fast, Easy and Accurate</td>\n",
              "      <td>1405814400</td>\n",
              "      <td>07 20, 2014</td>\n",
              "      <td>{'vowel': 232, 'consonant': 499, 'tcount': 731}</td>\n",
              "      <td>{'vowel': 8, 'consonant': 15, 'tcount': 23}</td>\n",
              "      <td>[this, is, a, great, little, scale, to, have, ...</td>\n",
              "      <td>[fast, easy, and, accurate]</td>\n",
              "    </tr>\n",
              "    <tr>\n",
              "      <th>53257</th>\n",
              "      <td>AAEVGE52KL0DJ</td>\n",
              "      <td>B00KYA0RC2</td>\n",
              "      <td>Tim</td>\n",
              "      <td>[3, 4]</td>\n",
              "      <td>When asked to review this scale, I almost decl...</td>\n",
              "      <td>4</td>\n",
              "      <td>Great Value on a Good Postal Scale</td>\n",
              "      <td>1404604800</td>\n",
              "      <td>07 6, 2014</td>\n",
              "      <td>{'vowel': 582, 'consonant': 1322, 'tcount': 1904}</td>\n",
              "      <td>{'vowel': 13, 'consonant': 21, 'tcount': 34}</td>\n",
              "      <td>[when, asked, to, review, this, scale, i, almo...</td>\n",
              "      <td>[great, value, on, a, good, postal, scale]</td>\n",
              "    </tr>\n",
              "  </tbody>\n",
              "</table>\n",
              "<p>53258 rows × 13 columns</p>\n",
              "</div>"
            ],
            "text/plain": [
              "           reviewerID  ...                                             notbgs\n",
              "0      A32T2H8150OJLU  ...           [a, solid, performer, and, time, friend]\n",
              "1      A3MAFS04ZABRGO  ...  [price, of, gold, is, up, so, don, t, the, gol...\n",
              "2      A1F1A0QQP2XVH5  ...  [good, functionality, not, durable, like, old,...\n",
              "3       A49R5DBXXQDE5  ...  [one, of, the, last, of, an, almost, extinct, ...\n",
              "4      A2XRMQA6PJ5ZJ8  ...                                       [still, the]\n",
              "...               ...  ...                                                ...\n",
              "53253  A1ODOGXEYECQQ8  ...               [portable, and, very, easy, to, use]\n",
              "53254  A2XX2A4OJCDNLZ  ...  [accuteck, shippro, digital, postal, scale, st...\n",
              "53255  A3LGT6UZL99IW1  ...    [extremely, accurate, foolproof, postal, scale]\n",
              "53256  A1XJOSJN6FHFO0  ...                        [fast, easy, and, accurate]\n",
              "53257   AAEVGE52KL0DJ  ...         [great, value, on, a, good, postal, scale]\n",
              "\n",
              "[53258 rows x 13 columns]"
            ]
          },
          "metadata": {
            "tags": []
          },
          "execution_count": 18
        }
      ]
    },
    {
      "cell_type": "code",
      "metadata": {
        "id": "ExQVNdiVyJDv",
        "colab_type": "code",
        "colab": {}
      },
      "source": [
        ""
      ],
      "execution_count": 0,
      "outputs": []
    },
    {
      "cell_type": "code",
      "metadata": {
        "id": "yZGfVtGT6fqB",
        "colab_type": "code",
        "colab": {}
      },
      "source": [
        ""
      ],
      "execution_count": 0,
      "outputs": []
    }
  ]
}