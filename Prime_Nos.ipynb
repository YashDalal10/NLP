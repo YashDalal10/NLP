{
  "nbformat": 4,
  "nbformat_minor": 0,
  "metadata": {
    "colab": {
      "name": "Prime Nos.ipynb",
      "provenance": []
    },
    "kernelspec": {
      "name": "python3",
      "display_name": "Python 3"
    }
  },
  "cells": [
    {
      "cell_type": "code",
      "metadata": {
        "id": "7KyFtlvZTQvI",
        "colab_type": "code",
        "colab": {}
      },
      "source": [
        "import numpy as np"
      ],
      "execution_count": 0,
      "outputs": []
    },
    {
      "cell_type": "code",
      "metadata": {
        "colab_type": "code",
        "id": "GD8d0bEeZByb",
        "colab": {}
      },
      "source": [
        "def prime(x):\n",
        "  if x==1:\n",
        "    return 2\n",
        "  count=1\n",
        "  n=1\n",
        "  while(count<x):\n",
        "    n+=2\n",
        "    if is_prime(n):\n",
        "      count+=1\n",
        "  return n\n",
        "\n",
        "def is_prime(n):\n",
        "  factor=2\n",
        "  while(factor*factor<=n):\n",
        "    if n%factor==0:\n",
        "      return False\n",
        "      factor+=1\n",
        "    return True\n",
        "\n"
      ],
      "execution_count": 0,
      "outputs": []
    },
    {
      "cell_type": "code",
      "metadata": {
        "id": "JeOYXBCUXSrj",
        "colab_type": "code",
        "colab": {
          "base_uri": "https://localhost:8080/",
          "height": 34
        },
        "outputId": "a82232d2-0bbb-4e1a-c7c2-ab4787fac8e4"
      },
      "source": [
        "prime(15)"
      ],
      "execution_count": 7,
      "outputs": [
        {
          "output_type": "execute_result",
          "data": {
            "text/plain": [
              "31"
            ]
          },
          "metadata": {
            "tags": []
          },
          "execution_count": 7
        }
      ]
    },
    {
      "cell_type": "code",
      "metadata": {
        "id": "b5qk5ADEXwJq",
        "colab_type": "code",
        "colab": {}
      },
      "source": [
        ""
      ],
      "execution_count": 0,
      "outputs": []
    },
    {
      "cell_type": "code",
      "metadata": {
        "id": "g9reWZwqXzRi",
        "colab_type": "code",
        "colab": {}
      },
      "source": [
        ""
      ],
      "execution_count": 0,
      "outputs": []
    }
  ]
}