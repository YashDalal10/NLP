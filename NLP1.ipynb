{
  "nbformat": 4,
  "nbformat_minor": 0,
  "metadata": {
    "colab": {
      "name": "NLP1.ipynb",
      "provenance": [],
      "collapsed_sections": []
    },
    "kernelspec": {
      "name": "python3",
      "display_name": "Python 3"
    }
  },
  "cells": [
    {
      "cell_type": "code",
      "metadata": {
        "id": "i6h23v1SZXts",
        "colab_type": "code",
        "colab": {}
      },
      "source": [
        "import numpy as np\n",
        "import pandas as pd"
      ],
      "execution_count": 0,
      "outputs": []
    },
    {
      "cell_type": "code",
      "metadata": {
        "id": "wr_leha3gJYJ",
        "colab_type": "code",
        "colab": {}
      },
      "source": [
        "data = pd.read_json('http://snap.stanford.edu/data/amazon/productGraph/categoryFiles/reviews_Office_Products_5.json.gz',lines = True)"
      ],
      "execution_count": 0,
      "outputs": []
    },
    {
      "cell_type": "code",
      "metadata": {
        "id": "ehgHHOTni7E2",
        "colab_type": "code",
        "outputId": "9f7fe2b7-d8b1-4eb4-9e97-7ae1f0f4b675",
        "colab": {
          "base_uri": "https://localhost:8080/",
          "height": 229
        }
      },
      "source": [
        "data.head()"
      ],
      "execution_count": 19,
      "outputs": [
        {
          "output_type": "execute_result",
          "data": {
            "text/html": [
              "<div>\n",
              "<style scoped>\n",
              "    .dataframe tbody tr th:only-of-type {\n",
              "        vertical-align: middle;\n",
              "    }\n",
              "\n",
              "    .dataframe tbody tr th {\n",
              "        vertical-align: top;\n",
              "    }\n",
              "\n",
              "    .dataframe thead th {\n",
              "        text-align: right;\n",
              "    }\n",
              "</style>\n",
              "<table border=\"1\" class=\"dataframe\">\n",
              "  <thead>\n",
              "    <tr style=\"text-align: right;\">\n",
              "      <th></th>\n",
              "      <th>reviewerID</th>\n",
              "      <th>asin</th>\n",
              "      <th>reviewerName</th>\n",
              "      <th>helpful</th>\n",
              "      <th>reviewText</th>\n",
              "      <th>overall</th>\n",
              "      <th>summary</th>\n",
              "      <th>unixReviewTime</th>\n",
              "      <th>reviewTime</th>\n",
              "    </tr>\n",
              "  </thead>\n",
              "  <tbody>\n",
              "    <tr>\n",
              "      <th>0</th>\n",
              "      <td>A32T2H8150OJLU</td>\n",
              "      <td>B00000JBLH</td>\n",
              "      <td>ARH</td>\n",
              "      <td>[3, 4]</td>\n",
              "      <td>I bought my first HP12C in about 1984 or so, a...</td>\n",
              "      <td>5</td>\n",
              "      <td>A solid performer, and long time friend</td>\n",
              "      <td>1094169600</td>\n",
              "      <td>09 3, 2004</td>\n",
              "    </tr>\n",
              "    <tr>\n",
              "      <th>1</th>\n",
              "      <td>A3MAFS04ZABRGO</td>\n",
              "      <td>B00000JBLH</td>\n",
              "      <td>Let it Be \"Alan\"</td>\n",
              "      <td>[7, 9]</td>\n",
              "      <td>WHY THIS BELATED REVIEW? I feel very obliged t...</td>\n",
              "      <td>5</td>\n",
              "      <td>Price of GOLD is up, so don't bury the golden ...</td>\n",
              "      <td>1197676800</td>\n",
              "      <td>12 15, 2007</td>\n",
              "    </tr>\n",
              "    <tr>\n",
              "      <th>2</th>\n",
              "      <td>A1F1A0QQP2XVH5</td>\n",
              "      <td>B00000JBLH</td>\n",
              "      <td>Mark B</td>\n",
              "      <td>[3, 3]</td>\n",
              "      <td>I have an HP 48GX that has been kicking for mo...</td>\n",
              "      <td>2</td>\n",
              "      <td>Good functionality, but not durable like old HPs</td>\n",
              "      <td>1293840000</td>\n",
              "      <td>01 1, 2011</td>\n",
              "    </tr>\n",
              "    <tr>\n",
              "      <th>3</th>\n",
              "      <td>A49R5DBXXQDE5</td>\n",
              "      <td>B00000JBLH</td>\n",
              "      <td>R. D Johnson</td>\n",
              "      <td>[7, 8]</td>\n",
              "      <td>I've started doing more finance stuff recently...</td>\n",
              "      <td>5</td>\n",
              "      <td>One of the last of an almost extinct species</td>\n",
              "      <td>1145404800</td>\n",
              "      <td>04 19, 2006</td>\n",
              "    </tr>\n",
              "    <tr>\n",
              "      <th>4</th>\n",
              "      <td>A2XRMQA6PJ5ZJ8</td>\n",
              "      <td>B00000JBLH</td>\n",
              "      <td>Roger J. Buffington</td>\n",
              "      <td>[0, 0]</td>\n",
              "      <td>For simple calculations and discounted cash fl...</td>\n",
              "      <td>5</td>\n",
              "      <td>Still the best</td>\n",
              "      <td>1375574400</td>\n",
              "      <td>08 4, 2013</td>\n",
              "    </tr>\n",
              "  </tbody>\n",
              "</table>\n",
              "</div>"
            ],
            "text/plain": [
              "       reviewerID        asin  ... unixReviewTime   reviewTime\n",
              "0  A32T2H8150OJLU  B00000JBLH  ...     1094169600   09 3, 2004\n",
              "1  A3MAFS04ZABRGO  B00000JBLH  ...     1197676800  12 15, 2007\n",
              "2  A1F1A0QQP2XVH5  B00000JBLH  ...     1293840000   01 1, 2011\n",
              "3   A49R5DBXXQDE5  B00000JBLH  ...     1145404800  04 19, 2006\n",
              "4  A2XRMQA6PJ5ZJ8  B00000JBLH  ...     1375574400   08 4, 2013\n",
              "\n",
              "[5 rows x 9 columns]"
            ]
          },
          "metadata": {
            "tags": []
          },
          "execution_count": 19
        }
      ]
    },
    {
      "cell_type": "code",
      "metadata": {
        "id": "KinyWCwijTdd",
        "colab_type": "code",
        "colab": {}
      },
      "source": [
        "d = pd.DataFrame(data)"
      ],
      "execution_count": 0,
      "outputs": []
    },
    {
      "cell_type": "code",
      "metadata": {
        "id": "rEoz16sQq9QZ",
        "colab_type": "code",
        "colab": {}
      },
      "source": [
        "def wordcount(str):\n",
        "  count = dict()\n",
        "  words = str.split()\n",
        "  for i in words:\n",
        "    if i in count:\n",
        "      count[i]+=1\n",
        "    else:\n",
        "      count[i]=1\n",
        "  return count"
      ],
      "execution_count": 0,
      "outputs": []
    },
    {
      "cell_type": "code",
      "metadata": {
        "id": "q-fLfv66_36A",
        "colab_type": "code",
        "colab": {}
      },
      "source": [
        "d['reviewText_word_count'] = d['reviewText'].apply(wordcount)"
      ],
      "execution_count": 0,
      "outputs": []
    },
    {
      "cell_type": "code",
      "metadata": {
        "id": "29VcAawy_-Xd",
        "colab_type": "code",
        "colab": {
          "base_uri": "https://localhost:8080/",
          "height": 151
        },
        "outputId": "194b2366-ba31-4465-9602-bd4642fc1a80"
      },
      "source": [
        "d['reviewText_word_count'].head(7)"
      ],
      "execution_count": 23,
      "outputs": [
        {
          "output_type": "execute_result",
          "data": {
            "text/plain": [
              "0    {'I': 7, 'bought': 1, 'my': 4, 'first': 1, 'HP...\n",
              "1    {'WHY': 1, 'THIS': 2, 'BELATED': 1, 'REVIEW?':...\n",
              "2    {'I': 2, 'have': 2, 'an': 2, 'HP': 3, '48GX': ...\n",
              "3    {'I've': 4, 'started': 1, 'doing': 2, 'more': ...\n",
              "4    {'For': 1, 'simple': 1, 'calculations': 2, 'an...\n",
              "5    {'While': 1, 'I': 6, 'don't': 1, 'have': 1, 'a...\n",
              "6    {'I've': 1, 'had': 1, 'an': 1, 'HP': 2, '12C':...\n",
              "Name: reviewText_word_count, dtype: object"
            ]
          },
          "metadata": {
            "tags": []
          },
          "execution_count": 23
        }
      ]
    },
    {
      "cell_type": "code",
      "metadata": {
        "id": "jfi--d2e5YIv",
        "colab_type": "code",
        "colab": {}
      },
      "source": [
        "d['summary_word_count'] = d['summary'].apply(wordcount)"
      ],
      "execution_count": 0,
      "outputs": []
    },
    {
      "cell_type": "code",
      "metadata": {
        "id": "Ew_sU10n5tQY",
        "colab_type": "code",
        "colab": {
          "base_uri": "https://localhost:8080/",
          "height": 595
        },
        "outputId": "171c75c1-4eea-4863-88e0-35bbac505c29"
      },
      "source": [
        "d.head(10)"
      ],
      "execution_count": 25,
      "outputs": [
        {
          "output_type": "execute_result",
          "data": {
            "text/html": [
              "<div>\n",
              "<style scoped>\n",
              "    .dataframe tbody tr th:only-of-type {\n",
              "        vertical-align: middle;\n",
              "    }\n",
              "\n",
              "    .dataframe tbody tr th {\n",
              "        vertical-align: top;\n",
              "    }\n",
              "\n",
              "    .dataframe thead th {\n",
              "        text-align: right;\n",
              "    }\n",
              "</style>\n",
              "<table border=\"1\" class=\"dataframe\">\n",
              "  <thead>\n",
              "    <tr style=\"text-align: right;\">\n",
              "      <th></th>\n",
              "      <th>reviewerID</th>\n",
              "      <th>asin</th>\n",
              "      <th>reviewerName</th>\n",
              "      <th>helpful</th>\n",
              "      <th>reviewText</th>\n",
              "      <th>overall</th>\n",
              "      <th>summary</th>\n",
              "      <th>unixReviewTime</th>\n",
              "      <th>reviewTime</th>\n",
              "      <th>reviewText_word_count</th>\n",
              "      <th>summary_word_count</th>\n",
              "    </tr>\n",
              "  </thead>\n",
              "  <tbody>\n",
              "    <tr>\n",
              "      <th>0</th>\n",
              "      <td>A32T2H8150OJLU</td>\n",
              "      <td>B00000JBLH</td>\n",
              "      <td>ARH</td>\n",
              "      <td>[3, 4]</td>\n",
              "      <td>I bought my first HP12C in about 1984 or so, a...</td>\n",
              "      <td>5</td>\n",
              "      <td>A solid performer, and long time friend</td>\n",
              "      <td>1094169600</td>\n",
              "      <td>09 3, 2004</td>\n",
              "      <td>{'I': 7, 'bought': 1, 'my': 4, 'first': 1, 'HP...</td>\n",
              "      <td>{'A': 1, 'solid': 1, 'performer,': 1, 'and': 1...</td>\n",
              "    </tr>\n",
              "    <tr>\n",
              "      <th>1</th>\n",
              "      <td>A3MAFS04ZABRGO</td>\n",
              "      <td>B00000JBLH</td>\n",
              "      <td>Let it Be \"Alan\"</td>\n",
              "      <td>[7, 9]</td>\n",
              "      <td>WHY THIS BELATED REVIEW? I feel very obliged t...</td>\n",
              "      <td>5</td>\n",
              "      <td>Price of GOLD is up, so don't bury the golden ...</td>\n",
              "      <td>1197676800</td>\n",
              "      <td>12 15, 2007</td>\n",
              "      <td>{'WHY': 1, 'THIS': 2, 'BELATED': 1, 'REVIEW?':...</td>\n",
              "      <td>{'Price': 1, 'of': 1, 'GOLD': 1, 'is': 1, 'up,...</td>\n",
              "    </tr>\n",
              "    <tr>\n",
              "      <th>2</th>\n",
              "      <td>A1F1A0QQP2XVH5</td>\n",
              "      <td>B00000JBLH</td>\n",
              "      <td>Mark B</td>\n",
              "      <td>[3, 3]</td>\n",
              "      <td>I have an HP 48GX that has been kicking for mo...</td>\n",
              "      <td>2</td>\n",
              "      <td>Good functionality, but not durable like old HPs</td>\n",
              "      <td>1293840000</td>\n",
              "      <td>01 1, 2011</td>\n",
              "      <td>{'I': 2, 'have': 2, 'an': 2, 'HP': 3, '48GX': ...</td>\n",
              "      <td>{'Good': 1, 'functionality,': 1, 'but': 1, 'no...</td>\n",
              "    </tr>\n",
              "    <tr>\n",
              "      <th>3</th>\n",
              "      <td>A49R5DBXXQDE5</td>\n",
              "      <td>B00000JBLH</td>\n",
              "      <td>R. D Johnson</td>\n",
              "      <td>[7, 8]</td>\n",
              "      <td>I've started doing more finance stuff recently...</td>\n",
              "      <td>5</td>\n",
              "      <td>One of the last of an almost extinct species</td>\n",
              "      <td>1145404800</td>\n",
              "      <td>04 19, 2006</td>\n",
              "      <td>{'I've': 4, 'started': 1, 'doing': 2, 'more': ...</td>\n",
              "      <td>{'One': 1, 'of': 2, 'the': 1, 'last': 1, 'an':...</td>\n",
              "    </tr>\n",
              "    <tr>\n",
              "      <th>4</th>\n",
              "      <td>A2XRMQA6PJ5ZJ8</td>\n",
              "      <td>B00000JBLH</td>\n",
              "      <td>Roger J. Buffington</td>\n",
              "      <td>[0, 0]</td>\n",
              "      <td>For simple calculations and discounted cash fl...</td>\n",
              "      <td>5</td>\n",
              "      <td>Still the best</td>\n",
              "      <td>1375574400</td>\n",
              "      <td>08 4, 2013</td>\n",
              "      <td>{'For': 1, 'simple': 1, 'calculations': 2, 'an...</td>\n",
              "      <td>{'Still': 1, 'the': 1, 'best': 1}</td>\n",
              "    </tr>\n",
              "    <tr>\n",
              "      <th>5</th>\n",
              "      <td>A2JFOHC9W629IE</td>\n",
              "      <td>B00000JBLH</td>\n",
              "      <td>scott_from_dallas</td>\n",
              "      <td>[10, 12]</td>\n",
              "      <td>While I don't have an MBA, it's hard to believ...</td>\n",
              "      <td>5</td>\n",
              "      <td>Every MBA student and grad should get one</td>\n",
              "      <td>1011744000</td>\n",
              "      <td>01 23, 2002</td>\n",
              "      <td>{'While': 1, 'I': 6, 'don't': 1, 'have': 1, 'a...</td>\n",
              "      <td>{'Every': 1, 'MBA': 1, 'student': 1, 'and': 1,...</td>\n",
              "    </tr>\n",
              "    <tr>\n",
              "      <th>6</th>\n",
              "      <td>A38NELQT98S4H8</td>\n",
              "      <td>B00000JBLH</td>\n",
              "      <td>W. B. Halper</td>\n",
              "      <td>[3, 4]</td>\n",
              "      <td>I've had an HP 12C ever since they were first ...</td>\n",
              "      <td>5</td>\n",
              "      <td>A workhorse of a calculator</td>\n",
              "      <td>1168992000</td>\n",
              "      <td>01 17, 2007</td>\n",
              "      <td>{'I've': 1, 'had': 1, 'an': 1, 'HP': 2, '12C':...</td>\n",
              "      <td>{'A': 1, 'workhorse': 1, 'of': 1, 'a': 1, 'cal...</td>\n",
              "    </tr>\n",
              "    <tr>\n",
              "      <th>7</th>\n",
              "      <td>AA8M6331NI1EN</td>\n",
              "      <td>B00000JBLH</td>\n",
              "      <td>ZombieMom</td>\n",
              "      <td>[0, 0]</td>\n",
              "      <td>Bought this for my boss because he lost his.  ...</td>\n",
              "      <td>5</td>\n",
              "      <td>Fast shipping &amp; great price for this awesome c...</td>\n",
              "      <td>1384387200</td>\n",
              "      <td>11 14, 2013</td>\n",
              "      <td>{'Bought': 1, 'this': 2, 'for': 1, 'my': 2, 'b...</td>\n",
              "      <td>{'Fast': 1, 'shipping': 1, '&amp;': 1, 'great': 1,...</td>\n",
              "    </tr>\n",
              "    <tr>\n",
              "      <th>8</th>\n",
              "      <td>A25C2M3QF9G7OQ</td>\n",
              "      <td>B00000JBLU</td>\n",
              "      <td>Comdet</td>\n",
              "      <td>[3, 3]</td>\n",
              "      <td>This is a well-designed, simple calculator tha...</td>\n",
              "      <td>5</td>\n",
              "      <td>Nice design, works well, great value</td>\n",
              "      <td>1291680000</td>\n",
              "      <td>12 7, 2010</td>\n",
              "      <td>{'This': 1, 'is': 3, 'a': 5, 'well-designed,':...</td>\n",
              "      <td>{'Nice': 1, 'design,': 1, 'works': 1, 'well,':...</td>\n",
              "    </tr>\n",
              "    <tr>\n",
              "      <th>9</th>\n",
              "      <td>A1RTVWTWZSIC94</td>\n",
              "      <td>B00000JBLU</td>\n",
              "      <td>Hb \"Black Beauty\"</td>\n",
              "      <td>[0, 0]</td>\n",
              "      <td>I love this calculator, big numbers and calcul...</td>\n",
              "      <td>5</td>\n",
              "      <td>Love It!!!!!!!!!</td>\n",
              "      <td>1385942400</td>\n",
              "      <td>12 2, 2013</td>\n",
              "      <td>{'I': 1, 'love': 1, 'this': 1, 'calculator,': ...</td>\n",
              "      <td>{'Love': 1, 'It!!!!!!!!!': 1}</td>\n",
              "    </tr>\n",
              "  </tbody>\n",
              "</table>\n",
              "</div>"
            ],
            "text/plain": [
              "       reviewerID  ...                                 summary_word_count\n",
              "0  A32T2H8150OJLU  ...  {'A': 1, 'solid': 1, 'performer,': 1, 'and': 1...\n",
              "1  A3MAFS04ZABRGO  ...  {'Price': 1, 'of': 1, 'GOLD': 1, 'is': 1, 'up,...\n",
              "2  A1F1A0QQP2XVH5  ...  {'Good': 1, 'functionality,': 1, 'but': 1, 'no...\n",
              "3   A49R5DBXXQDE5  ...  {'One': 1, 'of': 2, 'the': 1, 'last': 1, 'an':...\n",
              "4  A2XRMQA6PJ5ZJ8  ...                  {'Still': 1, 'the': 1, 'best': 1}\n",
              "5  A2JFOHC9W629IE  ...  {'Every': 1, 'MBA': 1, 'student': 1, 'and': 1,...\n",
              "6  A38NELQT98S4H8  ...  {'A': 1, 'workhorse': 1, 'of': 1, 'a': 1, 'cal...\n",
              "7   AA8M6331NI1EN  ...  {'Fast': 1, 'shipping': 1, '&': 1, 'great': 1,...\n",
              "8  A25C2M3QF9G7OQ  ...  {'Nice': 1, 'design,': 1, 'works': 1, 'well,':...\n",
              "9  A1RTVWTWZSIC94  ...                      {'Love': 1, 'It!!!!!!!!!': 1}\n",
              "\n",
              "[10 rows x 11 columns]"
            ]
          },
          "metadata": {
            "tags": []
          },
          "execution_count": 25
        }
      ]
    },
    {
      "cell_type": "code",
      "metadata": {
        "id": "O5s9foGi5wVm",
        "colab_type": "code",
        "colab": {}
      },
      "source": [
        ""
      ],
      "execution_count": 0,
      "outputs": []
    }
  ]
}